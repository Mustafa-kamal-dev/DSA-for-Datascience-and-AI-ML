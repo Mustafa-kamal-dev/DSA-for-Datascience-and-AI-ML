{
  "nbformat": 4,
  "nbformat_minor": 0,
  "metadata": {
    "colab": {
      "provenance": []
    },
    "kernelspec": {
      "name": "python3",
      "display_name": "Python 3"
    },
    "language_info": {
      "name": "python"
    }
  },
  "cells": [
    {
      "cell_type": "code",
      "execution_count": 3,
      "metadata": {
        "colab": {
          "base_uri": "https://localhost:8080/"
        },
        "id": "1PvyZQXMdDYS",
        "outputId": "b266301a-52b2-4861-d993-1a4e0f94a750"
      },
      "outputs": [
        {
          "output_type": "stream",
          "name": "stdout",
          "text": [
            "([12, -5, -6, 50], 12.75)\n"
          ]
        }
      ],
      "source": [
        "def max_average_subarray(arr, k):\n",
        "    window_sum = sum(arr[:k])\n",
        "    max_sum = window_sum\n",
        "    start = 0\n",
        "\n",
        "    for i in range(k, len(arr)):\n",
        "        window_sum += arr[i] - arr[i - k]\n",
        "        if window_sum > max_sum:\n",
        "            max_sum = window_sum\n",
        "            start = i - k + 1\n",
        "\n",
        "    return arr[start:start + k], max_sum/k\n",
        "\n",
        "# Example\n",
        "arr = [1, 12, -5, -6, 50, 3]\n",
        "k = 4\n",
        "print(max_average_subarray(arr, k))\n",
        "\n"
      ]
    }
  ]
}